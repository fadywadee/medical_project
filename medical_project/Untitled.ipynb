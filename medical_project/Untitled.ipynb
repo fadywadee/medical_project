{
 "cells": [
  {
   "cell_type": "code",
   "execution_count": 3,
   "id": "1e07f94e",
   "metadata": {},
   "outputs": [
    {
     "data": {
      "text/html": [
       "<div>\n",
       "<style scoped>\n",
       "    .dataframe tbody tr th:only-of-type {\n",
       "        vertical-align: middle;\n",
       "    }\n",
       "\n",
       "    .dataframe tbody tr th {\n",
       "        vertical-align: top;\n",
       "    }\n",
       "\n",
       "    .dataframe thead th {\n",
       "        text-align: right;\n",
       "    }\n",
       "</style>\n",
       "<table border=\"1\" class=\"dataframe\">\n",
       "  <thead>\n",
       "    <tr style=\"text-align: right;\">\n",
       "      <th></th>\n",
       "      <th>medicine</th>\n",
       "      <th>area</th>\n",
       "      <th>speciality</th>\n",
       "      <th>price</th>\n",
       "      <th>dr_class</th>\n",
       "      <th>exam_price</th>\n",
       "      <th>clinic_hos</th>\n",
       "      <th>write</th>\n",
       "    </tr>\n",
       "  </thead>\n",
       "  <tbody>\n",
       "    <tr>\n",
       "      <th>0</th>\n",
       "      <td>type1</td>\n",
       "      <td>area1</td>\n",
       "      <td>chest</td>\n",
       "      <td>45</td>\n",
       "      <td>a</td>\n",
       "      <td>220</td>\n",
       "      <td>clinic</td>\n",
       "      <td>1</td>\n",
       "    </tr>\n",
       "    <tr>\n",
       "      <th>1</th>\n",
       "      <td>type1</td>\n",
       "      <td>area4</td>\n",
       "      <td>im</td>\n",
       "      <td>45</td>\n",
       "      <td>b</td>\n",
       "      <td>90</td>\n",
       "      <td>hospital</td>\n",
       "      <td>1</td>\n",
       "    </tr>\n",
       "    <tr>\n",
       "      <th>2</th>\n",
       "      <td>type1</td>\n",
       "      <td>area2</td>\n",
       "      <td>gp</td>\n",
       "      <td>45</td>\n",
       "      <td>b</td>\n",
       "      <td>60</td>\n",
       "      <td>hospital</td>\n",
       "      <td>1</td>\n",
       "    </tr>\n",
       "    <tr>\n",
       "      <th>3</th>\n",
       "      <td>type1</td>\n",
       "      <td>area3</td>\n",
       "      <td>im</td>\n",
       "      <td>45</td>\n",
       "      <td>a</td>\n",
       "      <td>180</td>\n",
       "      <td>clinic</td>\n",
       "      <td>0</td>\n",
       "    </tr>\n",
       "    <tr>\n",
       "      <th>4</th>\n",
       "      <td>type4</td>\n",
       "      <td>area8</td>\n",
       "      <td>chest</td>\n",
       "      <td>36</td>\n",
       "      <td>a</td>\n",
       "      <td>75</td>\n",
       "      <td>hospital</td>\n",
       "      <td>0</td>\n",
       "    </tr>\n",
       "  </tbody>\n",
       "</table>\n",
       "</div>"
      ],
      "text/plain": [
       "  medicine   area speciality  price dr_class  exam_price clinic_hos  write\n",
       "0    type1  area1      chest     45        a         220     clinic      1\n",
       "1    type1  area4         im     45        b          90   hospital      1\n",
       "2    type1  area2         gp     45        b          60   hospital      1\n",
       "3    type1  area3         im     45        a         180     clinic      0\n",
       "4    type4  area8      chest     36        a          75   hospital      0"
      ]
     },
     "metadata": {},
     "output_type": "display_data"
    }
   ],
   "source": [
    "# Import libraries necessary for this project\n",
    "import numpy as np\n",
    "import pandas as pd\n",
    "from time import time\n",
    "from IPython.display import display # Allows the use of display() for DataFrames\n",
    "\n",
    "# Import supplementary visualization code visuals.py\n",
    "#import visuals as vs\n",
    "\n",
    "# Pretty display for notebooks\n",
    "%matplotlib inline\n",
    "\n",
    "# Load the Census dataset\n",
    "data = pd.read_csv(\"testing.txt\")\n",
    "\n",
    "\n",
    "# Success - Display the first record\n",
    "display(data.head())"
   ]
  },
  {
   "cell_type": "code",
   "execution_count": 12,
   "id": "8d9280c5",
   "metadata": {},
   "outputs": [],
   "source": [
    "total=data.isna()"
   ]
  },
  {
   "cell_type": "code",
   "execution_count": 10,
   "id": "37e1aec9",
   "metadata": {},
   "outputs": [
    {
     "name": "stdout",
     "output_type": "stream",
     "text": [
      "<class 'pandas.core.frame.DataFrame'>\n",
      "RangeIndex: 30 entries, 0 to 29\n",
      "Data columns (total 8 columns):\n",
      " #   Column      Non-Null Count  Dtype \n",
      "---  ------      --------------  ----- \n",
      " 0   medicine    30 non-null     object\n",
      " 1   area        30 non-null     object\n",
      " 2   speciality  30 non-null     object\n",
      " 3   price       30 non-null     int64 \n",
      " 4   dr_class    30 non-null     object\n",
      " 5   exam_price  30 non-null     int64 \n",
      " 6   clinic_hos  30 non-null     object\n",
      " 7   write       30 non-null     int64 \n",
      "dtypes: int64(3), object(5)\n",
      "memory usage: 2.0+ KB\n"
     ]
    }
   ],
   "source": [
    "data.info()"
   ]
  },
  {
   "cell_type": "code",
   "execution_count": 13,
   "id": "4531caa9",
   "metadata": {},
   "outputs": [
    {
     "data": {
      "text/plain": [
       "medicine      0\n",
       "area          0\n",
       "speciality    0\n",
       "price         0\n",
       "dr_class      0\n",
       "exam_price    0\n",
       "clinic_hos    0\n",
       "write         0\n",
       "dtype: int64"
      ]
     },
     "execution_count": 13,
     "metadata": {},
     "output_type": "execute_result"
    }
   ],
   "source": [
    "total=total.sum().sort_values(ascending=False)\n",
    "total"
   ]
  },
  {
   "cell_type": "code",
   "execution_count": null,
   "id": "5a69013a",
   "metadata": {},
   "outputs": [],
   "source": []
  }
 ],
 "metadata": {
  "kernelspec": {
   "display_name": "Python 3 (ipykernel)",
   "language": "python",
   "name": "python3"
  },
  "language_info": {
   "codemirror_mode": {
    "name": "ipython",
    "version": 3
   },
   "file_extension": ".py",
   "mimetype": "text/x-python",
   "name": "python",
   "nbconvert_exporter": "python",
   "pygments_lexer": "ipython3",
   "version": "3.9.12"
  }
 },
 "nbformat": 4,
 "nbformat_minor": 5
}
