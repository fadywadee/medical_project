{
 "cells": [
  {
   "cell_type": "code",
   "execution_count": null,
   "metadata": {},
   "outputs": [],
   "source": []
  },
  {
   "cell_type": "markdown",
   "metadata": {},
   "source": [
    "## Featureset Exploration\n",
    "### Input Data fields (Features and Labels)\n",
    "The input data consists of 390 samples collected from 253 doctors.\n",
    "This data will be used for training and validation test in a file\n",
    "named medical attached with the project proposal.\n",
    "Every sample consists of 7 features and 1 label(the output target).\n",
    "* **medicine:** The commercial name of the medicine that I refer to it as type1 to type6.\n",
    "* **Price:** price for every drug of these 6 drugs for patient.\n",
    "* **exam_price:** examination price that the doctor takes from the patient.\n",
    "* **clinic_hos:** classification if this doctor has a private 'clinic' or works in a 'hospital'.\n",
    "* **dr_class:** doctor class was classified according to number of patients for every doctor and how much is this doctor famous and it was classified to 'a' and 'b'.\n",
    "\n",
    "**where:**\n",
    "\n",
    "* **class a:** are doctors with high patient rate\n",
    "* **class b:** are doctors with medium patient rate\n",
    "* **area:** every medical representative cover some areas in a city where the medical representative has to make a lot of visits for alot of doctors in different places and I refer to each area with the name (area1 to area8)with total 8 areas that I have covered to make my prospection.\n",
    "* **specialty:** the specialty of the doctor is one of the most important features because it will determine which of the 6 drugs will be suitable for this doctor to write it in his prescription. \n",
    "\n",
    "**These specialties are:**\n",
    "* **Chest:** chest specialist\n",
    "* **Im:** internal medicine specialist\n",
    "* **Cd:** cardiology specialist\n",
    "* **Neuro:** neurology specialist\n",
    "* **Git:** gastrointestinal tract specialist\n",
    "* **Ent:** ear, nose and throat specialist\n",
    "* **Sur:** surgery specialist\n",
    "* **Uro:** urology specialist\n",
    "* **Gp:** general practitioner\n",
    "* **Or:** orthopedic specialist\n",
    "* **Vas:** vascular specialst\n",
    "\n",
    "**With total 11 specialties.**\n",
    "\n",
    "* **Target (label):** just one target to classify if this doctor write any of these drugs in prescription to his patients or not. With (1) if the doctor writes the drug in his prescription and (0)if not."
   ]
  },
  {
   "cell_type": "code",
   "execution_count": 1,
   "metadata": {},
   "outputs": [],
   "source": [
    "import numpy as np\n",
    "import pandas as pd\n",
    "import seaborn as sb\n",
    "import matplotlib.pylab as plt\n",
    "%matplotlib inline\n",
    "from sklearn.preprocessing import StandardScaler\n",
    "from sklearn.preprocessing import MinMaxScaler"
   ]
  },
  {
   "cell_type": "code",
   "execution_count": 5,
   "metadata": {},
   "outputs": [
    {
     "data": {
      "text/html": [
       "<div>\n",
       "<style scoped>\n",
       "    .dataframe tbody tr th:only-of-type {\n",
       "        vertical-align: middle;\n",
       "    }\n",
       "\n",
       "    .dataframe tbody tr th {\n",
       "        vertical-align: top;\n",
       "    }\n",
       "\n",
       "    .dataframe thead th {\n",
       "        text-align: right;\n",
       "    }\n",
       "</style>\n",
       "<table border=\"1\" class=\"dataframe\">\n",
       "  <thead>\n",
       "    <tr style=\"text-align: right;\">\n",
       "      <th></th>\n",
       "      <th>medicine</th>\n",
       "      <th>area</th>\n",
       "      <th>speciality</th>\n",
       "      <th>price</th>\n",
       "      <th>dr_class</th>\n",
       "      <th>exam_price</th>\n",
       "      <th>clinic_hos</th>\n",
       "      <th>write</th>\n",
       "    </tr>\n",
       "  </thead>\n",
       "  <tbody>\n",
       "    <tr>\n",
       "      <th>0</th>\n",
       "      <td>type1</td>\n",
       "      <td>area1</td>\n",
       "      <td>chest</td>\n",
       "      <td>45</td>\n",
       "      <td>a</td>\n",
       "      <td>200</td>\n",
       "      <td>clinic</td>\n",
       "      <td>1</td>\n",
       "    </tr>\n",
       "    <tr>\n",
       "      <th>1</th>\n",
       "      <td>type4</td>\n",
       "      <td>area2</td>\n",
       "      <td>im</td>\n",
       "      <td>36</td>\n",
       "      <td>b</td>\n",
       "      <td>100</td>\n",
       "      <td>clinic</td>\n",
       "      <td>1</td>\n",
       "    </tr>\n",
       "    <tr>\n",
       "      <th>2</th>\n",
       "      <td>type1</td>\n",
       "      <td>area8</td>\n",
       "      <td>chest</td>\n",
       "      <td>45</td>\n",
       "      <td>a</td>\n",
       "      <td>75</td>\n",
       "      <td>hospital</td>\n",
       "      <td>1</td>\n",
       "    </tr>\n",
       "    <tr>\n",
       "      <th>3</th>\n",
       "      <td>type1</td>\n",
       "      <td>area5</td>\n",
       "      <td>chest</td>\n",
       "      <td>45</td>\n",
       "      <td>a</td>\n",
       "      <td>30</td>\n",
       "      <td>hospital</td>\n",
       "      <td>1</td>\n",
       "    </tr>\n",
       "    <tr>\n",
       "      <th>4</th>\n",
       "      <td>type5</td>\n",
       "      <td>area6</td>\n",
       "      <td>uro</td>\n",
       "      <td>29</td>\n",
       "      <td>a</td>\n",
       "      <td>220</td>\n",
       "      <td>clinic</td>\n",
       "      <td>0</td>\n",
       "    </tr>\n",
       "  </tbody>\n",
       "</table>\n",
       "</div>"
      ],
      "text/plain": [
       "  medicine   area speciality  price dr_class  exam_price clinic_hos  write\n",
       "0    type1  area1      chest     45        a         200     clinic      1\n",
       "1    type4  area2         im     36        b         100     clinic      1\n",
       "2    type1  area8      chest     45        a          75   hospital      1\n",
       "3    type1  area5      chest     45        a          30   hospital      1\n",
       "4    type5  area6        uro     29        a         220     clinic      0"
      ]
     },
     "execution_count": 5,
     "metadata": {},
     "output_type": "execute_result"
    }
   ],
   "source": [
    "data =pd.read_csv(\"training.txt\")\n",
    "data.head()"
   ]
  },
  {
   "cell_type": "code",
   "execution_count": 22,
   "metadata": {},
   "outputs": [
    {
     "data": {
      "text/html": [
       "<div>\n",
       "<style scoped>\n",
       "    .dataframe tbody tr th:only-of-type {\n",
       "        vertical-align: middle;\n",
       "    }\n",
       "\n",
       "    .dataframe tbody tr th {\n",
       "        vertical-align: top;\n",
       "    }\n",
       "\n",
       "    .dataframe thead th {\n",
       "        text-align: right;\n",
       "    }\n",
       "</style>\n",
       "<table border=\"1\" class=\"dataframe\">\n",
       "  <thead>\n",
       "    <tr style=\"text-align: right;\">\n",
       "      <th></th>\n",
       "      <th>medicine</th>\n",
       "      <th>area</th>\n",
       "      <th>speciality</th>\n",
       "      <th>price</th>\n",
       "      <th>dr_class</th>\n",
       "      <th>exam_price</th>\n",
       "      <th>clinic_hos</th>\n",
       "    </tr>\n",
       "  </thead>\n",
       "  <tbody>\n",
       "    <tr>\n",
       "      <th>0</th>\n",
       "      <td>type1</td>\n",
       "      <td>area1</td>\n",
       "      <td>chest</td>\n",
       "      <td>45</td>\n",
       "      <td>a</td>\n",
       "      <td>200</td>\n",
       "      <td>clinic</td>\n",
       "    </tr>\n",
       "    <tr>\n",
       "      <th>1</th>\n",
       "      <td>type4</td>\n",
       "      <td>area2</td>\n",
       "      <td>im</td>\n",
       "      <td>36</td>\n",
       "      <td>b</td>\n",
       "      <td>100</td>\n",
       "      <td>clinic</td>\n",
       "    </tr>\n",
       "    <tr>\n",
       "      <th>2</th>\n",
       "      <td>type1</td>\n",
       "      <td>area8</td>\n",
       "      <td>chest</td>\n",
       "      <td>45</td>\n",
       "      <td>a</td>\n",
       "      <td>75</td>\n",
       "      <td>hospital</td>\n",
       "    </tr>\n",
       "    <tr>\n",
       "      <th>3</th>\n",
       "      <td>type1</td>\n",
       "      <td>area5</td>\n",
       "      <td>chest</td>\n",
       "      <td>45</td>\n",
       "      <td>a</td>\n",
       "      <td>30</td>\n",
       "      <td>hospital</td>\n",
       "    </tr>\n",
       "    <tr>\n",
       "      <th>4</th>\n",
       "      <td>type5</td>\n",
       "      <td>area6</td>\n",
       "      <td>uro</td>\n",
       "      <td>29</td>\n",
       "      <td>a</td>\n",
       "      <td>220</td>\n",
       "      <td>clinic</td>\n",
       "    </tr>\n",
       "  </tbody>\n",
       "</table>\n",
       "</div>"
      ],
      "text/plain": [
       "  medicine   area speciality  price dr_class  exam_price clinic_hos\n",
       "0    type1  area1      chest     45        a         200     clinic\n",
       "1    type4  area2         im     36        b         100     clinic\n",
       "2    type1  area8      chest     45        a          75   hospital\n",
       "3    type1  area5      chest     45        a          30   hospital\n",
       "4    type5  area6        uro     29        a         220     clinic"
      ]
     },
     "execution_count": 22,
     "metadata": {},
     "output_type": "execute_result"
    }
   ],
   "source": [
    "feat=data.drop('write',axis=1)\n",
    "label=data['write']\n",
    "feat.head()"
   ]
  },
  {
   "cell_type": "code",
   "execution_count": 18,
   "metadata": {},
   "outputs": [
    {
     "name": "stdout",
     "output_type": "stream",
     "text": [
      "<class 'pandas.core.frame.DataFrame'>\n",
      "RangeIndex: 390 entries, 0 to 389\n",
      "Data columns (total 7 columns):\n",
      " #   Column      Non-Null Count  Dtype \n",
      "---  ------      --------------  ----- \n",
      " 0   medicine    390 non-null    object\n",
      " 1   area        390 non-null    object\n",
      " 2   speciality  390 non-null    object\n",
      " 3   price       390 non-null    int64 \n",
      " 4   dr_class    390 non-null    object\n",
      " 5   exam_price  390 non-null    int64 \n",
      " 6   clinic_hos  390 non-null    object\n",
      "dtypes: int64(2), object(5)\n",
      "memory usage: 21.5+ KB\n"
     ]
    }
   ],
   "source": [
    "feat.info()"
   ]
  },
  {
   "cell_type": "markdown",
   "metadata": {},
   "source": [
    "emax_price= price \n",
    "in the count !!!!!!!!!!!!!\n"
   ]
  },
  {
   "cell_type": "code",
   "execution_count": 20,
   "metadata": {},
   "outputs": [
    {
     "data": {
      "text/html": [
       "<div>\n",
       "<style scoped>\n",
       "    .dataframe tbody tr th:only-of-type {\n",
       "        vertical-align: middle;\n",
       "    }\n",
       "\n",
       "    .dataframe tbody tr th {\n",
       "        vertical-align: top;\n",
       "    }\n",
       "\n",
       "    .dataframe thead th {\n",
       "        text-align: right;\n",
       "    }\n",
       "</style>\n",
       "<table border=\"1\" class=\"dataframe\">\n",
       "  <thead>\n",
       "    <tr style=\"text-align: right;\">\n",
       "      <th></th>\n",
       "      <th>price</th>\n",
       "      <th>exam_price</th>\n",
       "    </tr>\n",
       "  </thead>\n",
       "  <tbody>\n",
       "    <tr>\n",
       "      <th>count</th>\n",
       "      <td>390.000000</td>\n",
       "      <td>390.000000</td>\n",
       "    </tr>\n",
       "    <tr>\n",
       "      <th>mean</th>\n",
       "      <td>35.715385</td>\n",
       "      <td>121.205128</td>\n",
       "    </tr>\n",
       "    <tr>\n",
       "      <th>std</th>\n",
       "      <td>8.751263</td>\n",
       "      <td>86.729844</td>\n",
       "    </tr>\n",
       "    <tr>\n",
       "      <th>min</th>\n",
       "      <td>20.000000</td>\n",
       "      <td>30.000000</td>\n",
       "    </tr>\n",
       "    <tr>\n",
       "      <th>25%</th>\n",
       "      <td>29.000000</td>\n",
       "      <td>50.000000</td>\n",
       "    </tr>\n",
       "    <tr>\n",
       "      <th>50%</th>\n",
       "      <td>36.000000</td>\n",
       "      <td>80.000000</td>\n",
       "    </tr>\n",
       "    <tr>\n",
       "      <th>75%</th>\n",
       "      <td>45.000000</td>\n",
       "      <td>170.000000</td>\n",
       "    </tr>\n",
       "    <tr>\n",
       "      <th>max</th>\n",
       "      <td>45.000000</td>\n",
       "      <td>350.000000</td>\n",
       "    </tr>\n",
       "  </tbody>\n",
       "</table>\n",
       "</div>"
      ],
      "text/plain": [
       "            price  exam_price\n",
       "count  390.000000  390.000000\n",
       "mean    35.715385  121.205128\n",
       "std      8.751263   86.729844\n",
       "min     20.000000   30.000000\n",
       "25%     29.000000   50.000000\n",
       "50%     36.000000   80.000000\n",
       "75%     45.000000  170.000000\n",
       "max     45.000000  350.000000"
      ]
     },
     "execution_count": 20,
     "metadata": {},
     "output_type": "execute_result"
    }
   ],
   "source": [
    "feat.describe()"
   ]
  },
  {
   "cell_type": "markdown",
   "metadata": {},
   "source": [
    "### type1 is  the most sell"
   ]
  },
  {
   "cell_type": "code",
   "execution_count": 21,
   "metadata": {},
   "outputs": [
    {
     "data": {
      "text/plain": [
       "<AxesSubplot:xlabel='medicine', ylabel='count'>"
      ]
     },
     "execution_count": 21,
     "metadata": {},
     "output_type": "execute_result"
    },
    {
     "data": {
      "image/png": "[encoded data removed]",
      "text/plain": [
       "<Figure size 432x288 with 1 Axes>"
      ]
     },
     "metadata": {
      "needs_background": "light"
     },
     "output_type": "display_data"
    }
   ],
   "source": [
    "sb.countplot(x='medicine',data=feat)"
   ]
  },
  {
   "cell_type": "markdown",
   "metadata": {},
   "source": [
    "### type1 is the most ecpensive"
   ]
  },
  {
   "cell_type": "code",
   "execution_count": 25,
   "metadata": {},
   "outputs": [
    {
     "data": {
      "text/plain": [
       "<AxesSubplot:xlabel='medicine', ylabel='price'>"
      ]
     },
     "execution_count": 25,
     "metadata": {},
     "output_type": "execute_result"
    },
    {
     "data": {
      "image/png": "[encoded data removed]",
      "text/plain": [
       "<Figure size 432x288 with 1 Axes>"
      ]
     },
     "metadata": {
      "needs_background": "light"
     },
     "output_type": "display_data"
    }
   ],
   "source": [
    "sb.barplot(x='medicine',y='price',data=feat)"
   ]
  },
  {
   "cell_type": "code",
   "execution_count": 37,
   "metadata": {},
   "outputs": [
    {
     "data": {
      "text/plain": [
       "<AxesSubplot:xlabel='medicine', ylabel='exam_price'>"
      ]
     },
     "execution_count": 37,
     "metadata": {},
     "output_type": "execute_result"
    },
    {
     "data": {
      "image/png": "[encoded data removed]",
      "text/plain": [
       "<Figure size 432x288 with 1 Axes>"
      ]
     },
     "metadata": {
      "needs_background": "light"
     },
     "output_type": "display_data"
    }
   ],
   "source": [
    "sb.barplot(x='medicine',y='exam_price',data=feat)"
   ]
  },
  {
   "cell_type": "code",
   "execution_count": 26,
   "metadata": {},
   "outputs": [
    {
     "data": {
      "text/plain": [
       "<seaborn.axisgrid.PairGrid at 0x26e60188370>"
      ]
     },
     "execution_count": 26,
     "metadata": {},
     "output_type": "execute_result"
    },
    {
     "data": {
      "image/png": "[encoded data removed]",
      "text/plain": [
       "<Figure size 360x360 with 6 Axes>"
      ]
     },
     "metadata": {
      "needs_background": "light"
     },
     "output_type": "display_data"
    }
   ],
   "source": [
    "\n",
    "sb.pairplot(feat)"
   ]
  },
  {
   "cell_type": "code",
   "execution_count": 39,
   "metadata": {},
   "outputs": [
    {
     "data": {
      "text/html": [
       "<div>\n",
       "<style scoped>\n",
       "    .dataframe tbody tr th:only-of-type {\n",
       "        vertical-align: middle;\n",
       "    }\n",
       "\n",
       "    .dataframe tbody tr th {\n",
       "        vertical-align: top;\n",
       "    }\n",
       "\n",
       "    .dataframe thead th {\n",
       "        text-align: right;\n",
       "    }\n",
       "</style>\n",
       "<table border=\"1\" class=\"dataframe\">\n",
       "  <thead>\n",
       "    <tr style=\"text-align: right;\">\n",
       "      <th></th>\n",
       "      <th>price</th>\n",
       "      <th>exam_price</th>\n",
       "    </tr>\n",
       "  </thead>\n",
       "  <tbody>\n",
       "    <tr>\n",
       "      <th>price</th>\n",
       "      <td>1.000000</td>\n",
       "      <td>-0.037752</td>\n",
       "    </tr>\n",
       "    <tr>\n",
       "      <th>exam_price</th>\n",
       "      <td>-0.037752</td>\n",
       "      <td>1.000000</td>\n",
       "    </tr>\n",
       "  </tbody>\n",
       "</table>\n",
       "</div>"
      ],
      "text/plain": [
       "               price  exam_price\n",
       "price       1.000000   -0.037752\n",
       "exam_price -0.037752    1.000000"
      ]
     },
     "execution_count": 39,
     "metadata": {},
     "output_type": "execute_result"
    }
   ],
   "source": [
    "feat.corr()\n"
   ]
  },
  {
   "cell_type": "code",
   "execution_count": 44,
   "metadata": {},
   "outputs": [
    {
     "name": "stdout",
     "output_type": "stream",
     "text": [
      "the skew of price is -0.2891203913411065\n"
     ]
    },
    {
     "name": "stderr",
     "output_type": "stream",
     "text": [
      "C:\\Users\\Fady\\anaconda3\\lib\\site-packages\\seaborn\\distributions.py:2619: FutureWarning: `distplot` is a deprecated function and will be removed in a future version. Please adapt your code to use either `displot` (a figure-level function with similar flexibility) or `histplot` (an axes-level function for histograms).\n",
      "  warnings.warn(msg, FutureWarning)\n"
     ]
    },
    {
     "data": {
      "image/png": "[encoded data removed]",
      "text/plain": [
       "<Figure size 432x288 with 1 Axes>"
      ]
     },
     "metadata": {
      "needs_background": "light"
     },
     "output_type": "display_data"
    }
   ],
   "source": [
    "sb.distplot(feat['price'])\n",
    "print('the skew of price is',feat['price'].skew())"
   ]
  },
  {
   "cell_type": "code",
   "execution_count": 45,
   "metadata": {},
   "outputs": [
    {
     "name": "stdout",
     "output_type": "stream",
     "text": [
      "the skew of price is 0.9714085516670444\n"
     ]
    },
    {
     "name": "stderr",
     "output_type": "stream",
     "text": [
      "C:\\Users\\Fady\\anaconda3\\lib\\site-packages\\seaborn\\distributions.py:2619: FutureWarning: `distplot` is a deprecated function and will be removed in a future version. Please adapt your code to use either `displot` (a figure-level function with similar flexibility) or `histplot` (an axes-level function for histograms).\n",
      "  warnings.warn(msg, FutureWarning)\n"
     ]
    },
    {
     "data": {
      "image/png": "[encoded data removed]",
      "text/plain": [
       "<Figure size 432x288 with 1 Axes>"
      ]
     },
     "metadata": {
      "needs_background": "light"
     },
     "output_type": "display_data"
    }
   ],
   "source": [
    "sb.distplot(feat['exam_price'])\n",
    "print('the skew of price is',feat['exam_price'].skew())"
   ]
  },
  {
   "cell_type": "markdown",
   "metadata": {},
   "source": [
    "### trans skew row by log"
   ]
  },
  {
   "cell_type": "code",
   "execution_count": 50,
   "metadata": {},
   "outputs": [],
   "source": [
    "feat['exam_price']=np.log(feat['exam_price'])"
   ]
  },
  {
   "cell_type": "code",
   "execution_count": 51,
   "metadata": {},
   "outputs": [
    {
     "data": {
      "text/plain": [
       "0.0062882200190164175"
      ]
     },
     "execution_count": 51,
     "metadata": {},
     "output_type": "execute_result"
    }
   ],
   "source": [
    "feat['exam_price'].skew()"
   ]
  },
  {
   "cell_type": "code",
   "execution_count": 53,
   "metadata": {},
   "outputs": [
    {
     "data": {
      "text/html": [
       "<div>\n",
       "<style scoped>\n",
       "    .dataframe tbody tr th:only-of-type {\n",
       "        vertical-align: middle;\n",
       "    }\n",
       "\n",
       "    .dataframe tbody tr th {\n",
       "        vertical-align: top;\n",
       "    }\n",
       "\n",
       "    .dataframe thead th {\n",
       "        text-align: right;\n",
       "    }\n",
       "</style>\n",
       "<table border=\"1\" class=\"dataframe\">\n",
       "  <thead>\n",
       "    <tr style=\"text-align: right;\">\n",
       "      <th></th>\n",
       "      <th>medicine</th>\n",
       "      <th>area</th>\n",
       "      <th>speciality</th>\n",
       "      <th>price</th>\n",
       "      <th>dr_class</th>\n",
       "      <th>exam_price</th>\n",
       "      <th>clinic_hos</th>\n",
       "    </tr>\n",
       "  </thead>\n",
       "  <tbody>\n",
       "    <tr>\n",
       "      <th>0</th>\n",
       "      <td>type1</td>\n",
       "      <td>area1</td>\n",
       "      <td>chest</td>\n",
       "      <td>45</td>\n",
       "      <td>a</td>\n",
       "      <td>5.298317</td>\n",
       "      <td>clinic</td>\n",
       "    </tr>\n",
       "    <tr>\n",
       "      <th>1</th>\n",
       "      <td>type4</td>\n",
       "      <td>area2</td>\n",
       "      <td>im</td>\n",
       "      <td>36</td>\n",
       "      <td>b</td>\n",
       "      <td>4.605170</td>\n",
       "      <td>clinic</td>\n",
       "    </tr>\n",
       "    <tr>\n",
       "      <th>2</th>\n",
       "      <td>type1</td>\n",
       "      <td>area8</td>\n",
       "      <td>chest</td>\n",
       "      <td>45</td>\n",
       "      <td>a</td>\n",
       "      <td>4.317488</td>\n",
       "      <td>hospital</td>\n",
       "    </tr>\n",
       "    <tr>\n",
       "      <th>3</th>\n",
       "      <td>type1</td>\n",
       "      <td>area5</td>\n",
       "      <td>chest</td>\n",
       "      <td>45</td>\n",
       "      <td>a</td>\n",
       "      <td>3.401197</td>\n",
       "      <td>hospital</td>\n",
       "    </tr>\n",
       "    <tr>\n",
       "      <th>4</th>\n",
       "      <td>type5</td>\n",
       "      <td>area6</td>\n",
       "      <td>uro</td>\n",
       "      <td>29</td>\n",
       "      <td>a</td>\n",
       "      <td>5.393628</td>\n",
       "      <td>clinic</td>\n",
       "    </tr>\n",
       "  </tbody>\n",
       "</table>\n",
       "</div>"
      ],
      "text/plain": [
       "  medicine   area speciality  price dr_class  exam_price clinic_hos\n",
       "0    type1  area1      chest     45        a    5.298317     clinic\n",
       "1    type4  area2         im     36        b    4.605170     clinic\n",
       "2    type1  area8      chest     45        a    4.317488   hospital\n",
       "3    type1  area5      chest     45        a    3.401197   hospital\n",
       "4    type5  area6        uro     29        a    5.393628     clinic"
      ]
     },
     "execution_count": 53,
     "metadata": {},
     "output_type": "execute_result"
    }
   ],
   "source": [
    "feat.head()"
   ]
  },
  {
   "cell_type": "markdown",
   "metadata": {},
   "source": [
    "### trans data to minmax scaler"
   ]
  },
  {
   "cell_type": "code",
   "execution_count": 60,
   "metadata": {},
   "outputs": [
    {
     "data": {
      "text/html": [
       "<div>\n",
       "<style scoped>\n",
       "    .dataframe tbody tr th:only-of-type {\n",
       "        vertical-align: middle;\n",
       "    }\n",
       "\n",
       "    .dataframe tbody tr th {\n",
       "        vertical-align: top;\n",
       "    }\n",
       "\n",
       "    .dataframe thead th {\n",
       "        text-align: right;\n",
       "    }\n",
       "</style>\n",
       "<table border=\"1\" class=\"dataframe\">\n",
       "  <thead>\n",
       "    <tr style=\"text-align: right;\">\n",
       "      <th></th>\n",
       "      <th>medicine</th>\n",
       "      <th>area</th>\n",
       "      <th>speciality</th>\n",
       "      <th>price</th>\n",
       "      <th>dr_class</th>\n",
       "      <th>exam_price</th>\n",
       "      <th>clinic_hos</th>\n",
       "    </tr>\n",
       "  </thead>\n",
       "  <tbody>\n",
       "    <tr>\n",
       "      <th>0</th>\n",
       "      <td>type1</td>\n",
       "      <td>area1</td>\n",
       "      <td>chest</td>\n",
       "      <td>1.00</td>\n",
       "      <td>a</td>\n",
       "      <td>0.772212</td>\n",
       "      <td>clinic</td>\n",
       "    </tr>\n",
       "    <tr>\n",
       "      <th>1</th>\n",
       "      <td>type4</td>\n",
       "      <td>area2</td>\n",
       "      <td>im</td>\n",
       "      <td>0.64</td>\n",
       "      <td>b</td>\n",
       "      <td>0.490070</td>\n",
       "      <td>clinic</td>\n",
       "    </tr>\n",
       "    <tr>\n",
       "      <th>2</th>\n",
       "      <td>type1</td>\n",
       "      <td>area8</td>\n",
       "      <td>chest</td>\n",
       "      <td>1.00</td>\n",
       "      <td>a</td>\n",
       "      <td>0.372971</td>\n",
       "      <td>hospital</td>\n",
       "    </tr>\n",
       "    <tr>\n",
       "      <th>3</th>\n",
       "      <td>type1</td>\n",
       "      <td>area5</td>\n",
       "      <td>chest</td>\n",
       "      <td>1.00</td>\n",
       "      <td>a</td>\n",
       "      <td>0.000000</td>\n",
       "      <td>hospital</td>\n",
       "    </tr>\n",
       "    <tr>\n",
       "      <th>4</th>\n",
       "      <td>type5</td>\n",
       "      <td>area6</td>\n",
       "      <td>uro</td>\n",
       "      <td>0.36</td>\n",
       "      <td>a</td>\n",
       "      <td>0.811007</td>\n",
       "      <td>clinic</td>\n",
       "    </tr>\n",
       "  </tbody>\n",
       "</table>\n",
       "</div>"
      ],
      "text/plain": [
       "  medicine   area speciality  price dr_class  exam_price clinic_hos\n",
       "0    type1  area1      chest   1.00        a    0.772212     clinic\n",
       "1    type4  area2         im   0.64        b    0.490070     clinic\n",
       "2    type1  area8      chest   1.00        a    0.372971   hospital\n",
       "3    type1  area5      chest   1.00        a    0.000000   hospital\n",
       "4    type5  area6        uro   0.36        a    0.811007     clinic"
      ]
     },
     "execution_count": 60,
     "metadata": {},
     "output_type": "execute_result"
    }
   ],
   "source": [
    "scaler=MinMaxScaler()\n",
    "num=['price','exam_price']\n",
    "feat[num] = scaler.fit_transform(feat[num])\n",
    "feat.head()"
   ]
  },
  {
   "cell_type": "code",
   "execution_count": 61,
   "metadata": {},
   "outputs": [
    {
     "data": {
      "text/html": [
       "<div>\n",
       "<style scoped>\n",
       "    .dataframe tbody tr th:only-of-type {\n",
       "        vertical-align: middle;\n",
       "    }\n",
       "\n",
       "    .dataframe tbody tr th {\n",
       "        vertical-align: top;\n",
       "    }\n",
       "\n",
       "    .dataframe thead th {\n",
       "        text-align: right;\n",
       "    }\n",
       "</style>\n",
       "<table border=\"1\" class=\"dataframe\">\n",
       "  <thead>\n",
       "    <tr style=\"text-align: right;\">\n",
       "      <th></th>\n",
       "      <th>price</th>\n",
       "      <th>exam_price</th>\n",
       "      <th>medicine_type1</th>\n",
       "      <th>medicine_type2</th>\n",
       "      <th>medicine_type3</th>\n",
       "      <th>medicine_type4</th>\n",
       "      <th>medicine_type5</th>\n",
       "      <th>medicine_type6</th>\n",
       "      <th>area_area1</th>\n",
       "      <th>area_area2</th>\n",
       "      <th>...</th>\n",
       "      <th>speciality_im</th>\n",
       "      <th>speciality_neuro</th>\n",
       "      <th>speciality_or</th>\n",
       "      <th>speciality_sur</th>\n",
       "      <th>speciality_uro</th>\n",
       "      <th>speciality_vas</th>\n",
       "      <th>dr_class_a</th>\n",
       "      <th>dr_class_b</th>\n",
       "      <th>clinic_hos_clinic</th>\n",
       "      <th>clinic_hos_hospital</th>\n",
       "    </tr>\n",
       "  </thead>\n",
       "  <tbody>\n",
       "    <tr>\n",
       "      <th>0</th>\n",
       "      <td>1.00</td>\n",
       "      <td>0.772212</td>\n",
       "      <td>1</td>\n",
       "      <td>0</td>\n",
       "      <td>0</td>\n",
       "      <td>0</td>\n",
       "      <td>0</td>\n",
       "      <td>0</td>\n",
       "      <td>1</td>\n",
       "      <td>0</td>\n",
       "      <td>...</td>\n",
       "      <td>0</td>\n",
       "      <td>0</td>\n",
       "      <td>0</td>\n",
       "      <td>0</td>\n",
       "      <td>0</td>\n",
       "      <td>0</td>\n",
       "      <td>1</td>\n",
       "      <td>0</td>\n",
       "      <td>1</td>\n",
       "      <td>0</td>\n",
       "    </tr>\n",
       "    <tr>\n",
       "      <th>1</th>\n",
       "      <td>0.64</td>\n",
       "      <td>0.490070</td>\n",
       "      <td>0</td>\n",
       "      <td>0</td>\n",
       "      <td>0</td>\n",
       "      <td>1</td>\n",
       "      <td>0</td>\n",
       "      <td>0</td>\n",
       "      <td>0</td>\n",
       "      <td>1</td>\n",
       "      <td>...</td>\n",
       "      <td>1</td>\n",
       "      <td>0</td>\n",
       "      <td>0</td>\n",
       "      <td>0</td>\n",
       "      <td>0</td>\n",
       "      <td>0</td>\n",
       "      <td>0</td>\n",
       "      <td>1</td>\n",
       "      <td>1</td>\n",
       "      <td>0</td>\n",
       "    </tr>\n",
       "    <tr>\n",
       "      <th>2</th>\n",
       "      <td>1.00</td>\n",
       "      <td>0.372971</td>\n",
       "      <td>1</td>\n",
       "      <td>0</td>\n",
       "      <td>0</td>\n",
       "      <td>0</td>\n",
       "      <td>0</td>\n",
       "      <td>0</td>\n",
       "      <td>0</td>\n",
       "      <td>0</td>\n",
       "      <td>...</td>\n",
       "      <td>0</td>\n",
       "      <td>0</td>\n",
       "      <td>0</td>\n",
       "      <td>0</td>\n",
       "      <td>0</td>\n",
       "      <td>0</td>\n",
       "      <td>1</td>\n",
       "      <td>0</td>\n",
       "      <td>0</td>\n",
       "      <td>1</td>\n",
       "    </tr>\n",
       "    <tr>\n",
       "      <th>3</th>\n",
       "      <td>1.00</td>\n",
       "      <td>0.000000</td>\n",
       "      <td>1</td>\n",
       "      <td>0</td>\n",
       "      <td>0</td>\n",
       "      <td>0</td>\n",
       "      <td>0</td>\n",
       "      <td>0</td>\n",
       "      <td>0</td>\n",
       "      <td>0</td>\n",
       "      <td>...</td>\n",
       "      <td>0</td>\n",
       "      <td>0</td>\n",
       "      <td>0</td>\n",
       "      <td>0</td>\n",
       "      <td>0</td>\n",
       "      <td>0</td>\n",
       "      <td>1</td>\n",
       "      <td>0</td>\n",
       "      <td>0</td>\n",
       "      <td>1</td>\n",
       "    </tr>\n",
       "    <tr>\n",
       "      <th>4</th>\n",
       "      <td>0.36</td>\n",
       "      <td>0.811007</td>\n",
       "      <td>0</td>\n",
       "      <td>0</td>\n",
       "      <td>0</td>\n",
       "      <td>0</td>\n",
       "      <td>1</td>\n",
       "      <td>0</td>\n",
       "      <td>0</td>\n",
       "      <td>0</td>\n",
       "      <td>...</td>\n",
       "      <td>0</td>\n",
       "      <td>0</td>\n",
       "      <td>0</td>\n",
       "      <td>0</td>\n",
       "      <td>1</td>\n",
       "      <td>0</td>\n",
       "      <td>1</td>\n",
       "      <td>0</td>\n",
       "      <td>1</td>\n",
       "      <td>0</td>\n",
       "    </tr>\n",
       "  </tbody>\n",
       "</table>\n",
       "<p>5 rows × 31 columns</p>\n",
       "</div>"
      ],
      "text/plain": [
       "   price  exam_price  medicine_type1  medicine_type2  medicine_type3  \\\n",
       "0   1.00    0.772212               1               0               0   \n",
       "1   0.64    0.490070               0               0               0   \n",
       "2   1.00    0.372971               1               0               0   \n",
       "3   1.00    0.000000               1               0               0   \n",
       "4   0.36    0.811007               0               0               0   \n",
       "\n",
       "   medicine_type4  medicine_type5  medicine_type6  area_area1  area_area2  \\\n",
       "0               0               0               0           1           0   \n",
       "1               1               0               0           0           1   \n",
       "2               0               0               0           0           0   \n",
       "3               0               0               0           0           0   \n",
       "4               0               1               0           0           0   \n",
       "\n",
       "   ...  speciality_im  speciality_neuro  speciality_or  speciality_sur  \\\n",
       "0  ...              0                 0              0               0   \n",
       "1  ...              1                 0              0               0   \n",
       "2  ...              0                 0              0               0   \n",
       "3  ...              0                 0              0               0   \n",
       "4  ...              0                 0              0               0   \n",
       "\n",
       "   speciality_uro  speciality_vas  dr_class_a  dr_class_b  clinic_hos_clinic  \\\n",
       "0               0               0           1           0                  1   \n",
       "1               0               0           0           1                  1   \n",
       "2               0               0           1           0                  0   \n",
       "3               0               0           1           0                  0   \n",
       "4               1               0           1           0                  1   \n",
       "\n",
       "   clinic_hos_hospital  \n",
       "0                    0  \n",
       "1                    0  \n",
       "2                    1  \n",
       "3                    1  \n",
       "4                    0  \n",
       "\n",
       "[5 rows x 31 columns]"
      ]
     },
     "execution_count": 61,
     "metadata": {},
     "output_type": "execute_result"
    }
   ],
   "source": [
    "feat_final=pd.get_dummies(feat)\n",
    "feat_final.head()"
   ]
  },
  {
   "cell_type": "code",
   "execution_count": 63,
   "metadata": {},
   "outputs": [
    {
     "data": {
      "text/plain": [
       "<AxesSubplot:xlabel='price'>"
      ]
     },
     "execution_count": 63,
     "metadata": {},
     "output_type": "execute_result"
    },
    {
     "data": {
      "image/png": "[encoded data removed]",
      "text/plain": [
       "<Figure size 432x288 with 1 Axes>"
      ]
     },
     "metadata": {
      "needs_background": "light"
     },
     "output_type": "display_data"
    }
   ],
   "source": [
    "sb.boxplot(x=feat_final['price'])"
   ]
  },
  {
   "cell_type": "code",
   "execution_count": 64,
   "metadata": {},
   "outputs": [
    {
     "data": {
      "text/plain": [
       "<AxesSubplot:xlabel='exam_price'>"
      ]
     },
     "execution_count": 64,
     "metadata": {},
     "output_type": "execute_result"
    },
    {
     "data": {
      "image/png": "[encoded data removed]",
      "text/plain": [
       "<Figure size 432x288 with 1 Axes>"
      ]
     },
     "metadata": {
      "needs_background": "light"
     },
     "output_type": "display_data"
    }
   ],
   "source": [
    "sb.boxplot(x=feat_final['exam_price'])"
   ]
  },
  {
   "cell_type": "code",
   "execution_count": 65,
   "metadata": {},
   "outputs": [
    {
     "data": {
      "text/html": [
       "<div>\n",
       "<style scoped>\n",
       "    .dataframe tbody tr th:only-of-type {\n",
       "        vertical-align: middle;\n",
       "    }\n",
       "\n",
       "    .dataframe tbody tr th {\n",
       "        vertical-align: top;\n",
       "    }\n",
       "\n",
       "    .dataframe thead th {\n",
       "        text-align: right;\n",
       "    }\n",
       "</style>\n",
       "<table border=\"1\" class=\"dataframe\">\n",
       "  <thead>\n",
       "    <tr style=\"text-align: right;\">\n",
       "      <th></th>\n",
       "      <th>price</th>\n",
       "      <th>exam_price</th>\n",
       "      <th>medicine_type1</th>\n",
       "      <th>medicine_type2</th>\n",
       "      <th>medicine_type3</th>\n",
       "      <th>medicine_type4</th>\n",
       "      <th>medicine_type5</th>\n",
       "      <th>medicine_type6</th>\n",
       "      <th>area_area1</th>\n",
       "      <th>area_area2</th>\n",
       "      <th>...</th>\n",
       "      <th>speciality_im</th>\n",
       "      <th>speciality_neuro</th>\n",
       "      <th>speciality_or</th>\n",
       "      <th>speciality_sur</th>\n",
       "      <th>speciality_uro</th>\n",
       "      <th>speciality_vas</th>\n",
       "      <th>dr_class_a</th>\n",
       "      <th>dr_class_b</th>\n",
       "      <th>clinic_hos_clinic</th>\n",
       "      <th>clinic_hos_hospital</th>\n",
       "    </tr>\n",
       "  </thead>\n",
       "  <tbody>\n",
       "    <tr>\n",
       "      <th>0</th>\n",
       "      <td>1.00</td>\n",
       "      <td>0.772212</td>\n",
       "      <td>1</td>\n",
       "      <td>0</td>\n",
       "      <td>0</td>\n",
       "      <td>0</td>\n",
       "      <td>0</td>\n",
       "      <td>0</td>\n",
       "      <td>1</td>\n",
       "      <td>0</td>\n",
       "      <td>...</td>\n",
       "      <td>0</td>\n",
       "      <td>0</td>\n",
       "      <td>0</td>\n",
       "      <td>0</td>\n",
       "      <td>0</td>\n",
       "      <td>0</td>\n",
       "      <td>1</td>\n",
       "      <td>0</td>\n",
       "      <td>1</td>\n",
       "      <td>0</td>\n",
       "    </tr>\n",
       "    <tr>\n",
       "      <th>1</th>\n",
       "      <td>0.64</td>\n",
       "      <td>0.490070</td>\n",
       "      <td>0</td>\n",
       "      <td>0</td>\n",
       "      <td>0</td>\n",
       "      <td>1</td>\n",
       "      <td>0</td>\n",
       "      <td>0</td>\n",
       "      <td>0</td>\n",
       "      <td>1</td>\n",
       "      <td>...</td>\n",
       "      <td>1</td>\n",
       "      <td>0</td>\n",
       "      <td>0</td>\n",
       "      <td>0</td>\n",
       "      <td>0</td>\n",
       "      <td>0</td>\n",
       "      <td>0</td>\n",
       "      <td>1</td>\n",
       "      <td>1</td>\n",
       "      <td>0</td>\n",
       "    </tr>\n",
       "    <tr>\n",
       "      <th>2</th>\n",
       "      <td>1.00</td>\n",
       "      <td>0.372971</td>\n",
       "      <td>1</td>\n",
       "      <td>0</td>\n",
       "      <td>0</td>\n",
       "      <td>0</td>\n",
       "      <td>0</td>\n",
       "      <td>0</td>\n",
       "      <td>0</td>\n",
       "      <td>0</td>\n",
       "      <td>...</td>\n",
       "      <td>0</td>\n",
       "      <td>0</td>\n",
       "      <td>0</td>\n",
       "      <td>0</td>\n",
       "      <td>0</td>\n",
       "      <td>0</td>\n",
       "      <td>1</td>\n",
       "      <td>0</td>\n",
       "      <td>0</td>\n",
       "      <td>1</td>\n",
       "    </tr>\n",
       "    <tr>\n",
       "      <th>3</th>\n",
       "      <td>1.00</td>\n",
       "      <td>0.000000</td>\n",
       "      <td>1</td>\n",
       "      <td>0</td>\n",
       "      <td>0</td>\n",
       "      <td>0</td>\n",
       "      <td>0</td>\n",
       "      <td>0</td>\n",
       "      <td>0</td>\n",
       "      <td>0</td>\n",
       "      <td>...</td>\n",
       "      <td>0</td>\n",
       "      <td>0</td>\n",
       "      <td>0</td>\n",
       "      <td>0</td>\n",
       "      <td>0</td>\n",
       "      <td>0</td>\n",
       "      <td>1</td>\n",
       "      <td>0</td>\n",
       "      <td>0</td>\n",
       "      <td>1</td>\n",
       "    </tr>\n",
       "    <tr>\n",
       "      <th>4</th>\n",
       "      <td>0.36</td>\n",
       "      <td>0.811007</td>\n",
       "      <td>0</td>\n",
       "      <td>0</td>\n",
       "      <td>0</td>\n",
       "      <td>0</td>\n",
       "      <td>1</td>\n",
       "      <td>0</td>\n",
       "      <td>0</td>\n",
       "      <td>0</td>\n",
       "      <td>...</td>\n",
       "      <td>0</td>\n",
       "      <td>0</td>\n",
       "      <td>0</td>\n",
       "      <td>0</td>\n",
       "      <td>1</td>\n",
       "      <td>0</td>\n",
       "      <td>1</td>\n",
       "      <td>0</td>\n",
       "      <td>1</td>\n",
       "      <td>0</td>\n",
       "    </tr>\n",
       "  </tbody>\n",
       "</table>\n",
       "<p>5 rows × 31 columns</p>\n",
       "</div>"
      ],
      "text/plain": [
       "   price  exam_price  medicine_type1  medicine_type2  medicine_type3  \\\n",
       "0   1.00    0.772212               1               0               0   \n",
       "1   0.64    0.490070               0               0               0   \n",
       "2   1.00    0.372971               1               0               0   \n",
       "3   1.00    0.000000               1               0               0   \n",
       "4   0.36    0.811007               0               0               0   \n",
       "\n",
       "   medicine_type4  medicine_type5  medicine_type6  area_area1  area_area2  \\\n",
       "0               0               0               0           1           0   \n",
       "1               1               0               0           0           1   \n",
       "2               0               0               0           0           0   \n",
       "3               0               0               0           0           0   \n",
       "4               0               1               0           0           0   \n",
       "\n",
       "   ...  speciality_im  speciality_neuro  speciality_or  speciality_sur  \\\n",
       "0  ...              0                 0              0               0   \n",
       "1  ...              1                 0              0               0   \n",
       "2  ...              0                 0              0               0   \n",
       "3  ...              0                 0              0               0   \n",
       "4  ...              0                 0              0               0   \n",
       "\n",
       "   speciality_uro  speciality_vas  dr_class_a  dr_class_b  clinic_hos_clinic  \\\n",
       "0               0               0           1           0                  1   \n",
       "1               0               0           0           1                  1   \n",
       "2               0               0           1           0                  0   \n",
       "3               0               0           1           0                  0   \n",
       "4               1               0           1           0                  1   \n",
       "\n",
       "   clinic_hos_hospital  \n",
       "0                    0  \n",
       "1                    0  \n",
       "2                    1  \n",
       "3                    1  \n",
       "4                    0  \n",
       "\n",
       "[5 rows x 31 columns]"
      ]
     },
     "execution_count": 65,
     "metadata": {},
     "output_type": "execute_result"
    }
   ],
   "source": [
    "feat_final.head()"
   ]
  },
  {
   "cell_type": "code",
   "execution_count": 66,
   "metadata": {},
   "outputs": [
    {
     "data": {
      "text/plain": [
       "0    1\n",
       "1    1\n",
       "2    1\n",
       "3    1\n",
       "4    0\n",
       "Name: write, dtype: int64"
      ]
     },
     "execution_count": 66,
     "metadata": {},
     "output_type": "execute_result"
    }
   ],
   "source": [
    "label.head()"
   ]
  },
  {
   "cell_type": "code",
   "execution_count": 69,
   "metadata": {},
   "outputs": [
    {
     "name": "stdout",
     "output_type": "stream",
     "text": [
      "Training features has 390 samples.\n",
      " train label  set has 390 samples.\n"
     ]
    }
   ],
   "source": [
    "print(\"Training features has {} samples.\".format(feat_final.shape[0]))\n",
    "print(\" train label  set has {} samples.\".format(label.shape[0]))"
   ]
  },
  {
   "cell_type": "code",
   "execution_count": 75,
   "metadata": {},
   "outputs": [],
   "source": [
    "from sklearn.metrics import accuracy_score"
   ]
  },
  {
   "cell_type": "markdown",
   "metadata": {},
   "source": [
    "## Naive model"
   ]
  },
  {
   "cell_type": "code",
   "execution_count": 85,
   "metadata": {},
   "outputs": [
    {
     "name": "stdout",
     "output_type": "stream",
     "text": [
      "the accuracy of naine is 58.71794871794872\n"
     ]
    }
   ],
   "source": [
    "listt=[]\n",
    "\n",
    "for i in range(feat_final.shape[0]) :\n",
    "    listt.append(1)\n",
    "listt=pd.Series(listt)\n",
    "print(\"the accuracy of naine is\",accuracy_score(listt,label)*100)"
   ]
  },
  {
   "cell_type": "markdown",
   "metadata": {},
   "source": [
    "## choose the best model in 3  in training only\n"
   ]
  },
  {
   "cell_type": "code",
   "execution_count": 157,
   "metadata": {},
   "outputs": [
    {
     "name": "stdout",
     "output_type": "stream",
     "text": [
      "the training score of model 1 is 91.02564102564102\n",
      "the training score of model 2 is 76.41025641025641\n",
      "the training score of model 3 is 76.66666666666667\n"
     ]
    }
   ],
   "source": [
    "from sklearn.metrics import fbeta_score, accuracy_score\n",
    "from sklearn.tree import DecisionTreeClassifier\n",
    "from sklearn.svm import SVC\n",
    "from sklearn.ensemble import AdaBoostClassifier\n",
    "\n",
    "model1=DecisionTreeClassifier()\n",
    "model2=SVC()\n",
    "model3=AdaBoostClassifier()\n",
    "\n",
    "# fitting the 3 models\n",
    "model1.fit(feat_final,label)\n",
    "model2.fit(feat_final,label)\n",
    "model3.fit(feat_final,label)\n",
    "\n",
    "# the predection of training\n",
    "feat_final_pred1=model1.predict(feat_final)\n",
    "feat_final_pred2=model2.predict(feat_final)\n",
    "feat_final_pred3=model3.predict(feat_final)\n",
    " \n",
    "    \n",
    "# the acc score\n",
    "train_acc1=accuracy_score(label,feat_final_pred1)\n",
    "train_acc2=accuracy_score(label,feat_final_pred2)\n",
    "train_acc3=accuracy_score(label,feat_final_pred3)\n",
    "\n",
    "print(\"the training score of model 1 is\",train_acc1*100)\n",
    "print(\"the training score of model 2 is\",train_acc2*100)\n",
    "print(\"the training score of model 3 is\",train_acc3*100)\n",
    "\n",
    "\n",
    "\n",
    "\n",
    "\n",
    "\n"
   ]
  },
  {
   "cell_type": "markdown",
   "metadata": {},
   "source": [
    "## the best model in training is the dectree  91%"
   ]
  },
  {
   "cell_type": "code",
   "execution_count": null,
   "metadata": {},
   "outputs": [],
   "source": []
  },
  {
   "cell_type": "markdown",
   "metadata": {},
   "source": [
    "# handle the testing"
   ]
  },
  {
   "cell_type": "code",
   "execution_count": 108,
   "metadata": {},
   "outputs": [
    {
     "data": {
      "text/html": [
       "<div>\n",
       "<style scoped>\n",
       "    .dataframe tbody tr th:only-of-type {\n",
       "        vertical-align: middle;\n",
       "    }\n",
       "\n",
       "    .dataframe tbody tr th {\n",
       "        vertical-align: top;\n",
       "    }\n",
       "\n",
       "    .dataframe thead th {\n",
       "        text-align: right;\n",
       "    }\n",
       "</style>\n",
       "<table border=\"1\" class=\"dataframe\">\n",
       "  <thead>\n",
       "    <tr style=\"text-align: right;\">\n",
       "      <th></th>\n",
       "      <th>medicine</th>\n",
       "      <th>area</th>\n",
       "      <th>speciality</th>\n",
       "      <th>price</th>\n",
       "      <th>dr_class</th>\n",
       "      <th>exam_price</th>\n",
       "      <th>clinic_hos</th>\n",
       "      <th>write</th>\n",
       "    </tr>\n",
       "  </thead>\n",
       "  <tbody>\n",
       "    <tr>\n",
       "      <th>0</th>\n",
       "      <td>type1</td>\n",
       "      <td>area1</td>\n",
       "      <td>chest</td>\n",
       "      <td>45</td>\n",
       "      <td>a</td>\n",
       "      <td>220</td>\n",
       "      <td>clinic</td>\n",
       "      <td>1</td>\n",
       "    </tr>\n",
       "    <tr>\n",
       "      <th>1</th>\n",
       "      <td>type1</td>\n",
       "      <td>area4</td>\n",
       "      <td>im</td>\n",
       "      <td>45</td>\n",
       "      <td>b</td>\n",
       "      <td>90</td>\n",
       "      <td>hospital</td>\n",
       "      <td>1</td>\n",
       "    </tr>\n",
       "    <tr>\n",
       "      <th>2</th>\n",
       "      <td>type1</td>\n",
       "      <td>area2</td>\n",
       "      <td>gp</td>\n",
       "      <td>45</td>\n",
       "      <td>b</td>\n",
       "      <td>60</td>\n",
       "      <td>hospital</td>\n",
       "      <td>1</td>\n",
       "    </tr>\n",
       "    <tr>\n",
       "      <th>3</th>\n",
       "      <td>type1</td>\n",
       "      <td>area3</td>\n",
       "      <td>im</td>\n",
       "      <td>45</td>\n",
       "      <td>a</td>\n",
       "      <td>180</td>\n",
       "      <td>clinic</td>\n",
       "      <td>0</td>\n",
       "    </tr>\n",
       "    <tr>\n",
       "      <th>4</th>\n",
       "      <td>type4</td>\n",
       "      <td>area8</td>\n",
       "      <td>chest</td>\n",
       "      <td>36</td>\n",
       "      <td>a</td>\n",
       "      <td>75</td>\n",
       "      <td>hospital</td>\n",
       "      <td>0</td>\n",
       "    </tr>\n",
       "  </tbody>\n",
       "</table>\n",
       "</div>"
      ],
      "text/plain": [
       "  medicine   area speciality  price dr_class  exam_price clinic_hos  write\n",
       "0    type1  area1      chest     45        a         220     clinic      1\n",
       "1    type1  area4         im     45        b          90   hospital      1\n",
       "2    type1  area2         gp     45        b          60   hospital      1\n",
       "3    type1  area3         im     45        a         180     clinic      0\n",
       "4    type4  area8      chest     36        a          75   hospital      0"
      ]
     },
     "execution_count": 108,
     "metadata": {},
     "output_type": "execute_result"
    }
   ],
   "source": [
    "testing=pd.read_csv(\"testing.txt\")\n",
    "testing.head()"
   ]
  },
  {
   "cell_type": "code",
   "execution_count": 109,
   "metadata": {},
   "outputs": [],
   "source": [
    "outcom=testing['write']\n",
    "testing=testing.drop('write',axis=1)"
   ]
  },
  {
   "cell_type": "code",
   "execution_count": 110,
   "metadata": {},
   "outputs": [
    {
     "name": "stdout",
     "output_type": "stream",
     "text": [
      "<class 'pandas.core.frame.DataFrame'>\n",
      "RangeIndex: 30 entries, 0 to 29\n",
      "Data columns (total 7 columns):\n",
      " #   Column      Non-Null Count  Dtype \n",
      "---  ------      --------------  ----- \n",
      " 0   medicine    30 non-null     object\n",
      " 1   area        30 non-null     object\n",
      " 2   speciality  30 non-null     object\n",
      " 3   price       30 non-null     int64 \n",
      " 4   dr_class    30 non-null     object\n",
      " 5   exam_price  30 non-null     int64 \n",
      " 6   clinic_hos  30 non-null     object\n",
      "dtypes: int64(2), object(5)\n",
      "memory usage: 1.8+ KB\n"
     ]
    }
   ],
   "source": [
    "testing.info()"
   ]
  },
  {
   "cell_type": "code",
   "execution_count": 111,
   "metadata": {},
   "outputs": [
    {
     "data": {
      "text/html": [
       "<div>\n",
       "<style scoped>\n",
       "    .dataframe tbody tr th:only-of-type {\n",
       "        vertical-align: middle;\n",
       "    }\n",
       "\n",
       "    .dataframe tbody tr th {\n",
       "        vertical-align: top;\n",
       "    }\n",
       "\n",
       "    .dataframe thead th {\n",
       "        text-align: right;\n",
       "    }\n",
       "</style>\n",
       "<table border=\"1\" class=\"dataframe\">\n",
       "  <thead>\n",
       "    <tr style=\"text-align: right;\">\n",
       "      <th></th>\n",
       "      <th>price</th>\n",
       "      <th>exam_price</th>\n",
       "    </tr>\n",
       "  </thead>\n",
       "  <tbody>\n",
       "    <tr>\n",
       "      <th>price</th>\n",
       "      <td>1.000000</td>\n",
       "      <td>-0.112039</td>\n",
       "    </tr>\n",
       "    <tr>\n",
       "      <th>exam_price</th>\n",
       "      <td>-0.112039</td>\n",
       "      <td>1.000000</td>\n",
       "    </tr>\n",
       "  </tbody>\n",
       "</table>\n",
       "</div>"
      ],
      "text/plain": [
       "               price  exam_price\n",
       "price       1.000000   -0.112039\n",
       "exam_price -0.112039    1.000000"
      ]
     },
     "execution_count": 111,
     "metadata": {},
     "output_type": "execute_result"
    }
   ],
   "source": [
    "testing.corr()"
   ]
  },
  {
   "cell_type": "code",
   "execution_count": 112,
   "metadata": {},
   "outputs": [
    {
     "name": "stderr",
     "output_type": "stream",
     "text": [
      "C:\\Users\\Fady\\AppData\\Local\\Temp\\ipykernel_13340\\2515790747.py:1: FutureWarning: Dropping of nuisance columns in DataFrame reductions (with 'numeric_only=None') is deprecated; in a future version this will raise TypeError.  Select only valid columns before calling the reduction.\n",
      "  testing.skew()\n"
     ]
    },
    {
     "data": {
      "text/plain": [
       "price         0.193453\n",
       "exam_price    0.953810\n",
       "dtype: float64"
      ]
     },
     "execution_count": 112,
     "metadata": {},
     "output_type": "execute_result"
    }
   ],
   "source": [
    "testing.skew()"
   ]
  },
  {
   "cell_type": "code",
   "execution_count": 113,
   "metadata": {},
   "outputs": [],
   "source": [
    "# use log trans for skew\n",
    "testing['exam_price']=np.log(testing['exam_price'])"
   ]
  },
  {
   "cell_type": "code",
   "execution_count": 114,
   "metadata": {},
   "outputs": [
    {
     "name": "stderr",
     "output_type": "stream",
     "text": [
      "C:\\Users\\Fady\\AppData\\Local\\Temp\\ipykernel_13340\\2515790747.py:1: FutureWarning: Dropping of nuisance columns in DataFrame reductions (with 'numeric_only=None') is deprecated; in a future version this will raise TypeError.  Select only valid columns before calling the reduction.\n",
      "  testing.skew()\n"
     ]
    },
    {
     "data": {
      "text/plain": [
       "price         0.193453\n",
       "exam_price   -0.260494\n",
       "dtype: float64"
      ]
     },
     "execution_count": 114,
     "metadata": {},
     "output_type": "execute_result"
    }
   ],
   "source": [
    "testing.skew()"
   ]
  },
  {
   "cell_type": "code",
   "execution_count": 115,
   "metadata": {},
   "outputs": [
    {
     "data": {
      "text/html": [
       "<div>\n",
       "<style scoped>\n",
       "    .dataframe tbody tr th:only-of-type {\n",
       "        vertical-align: middle;\n",
       "    }\n",
       "\n",
       "    .dataframe tbody tr th {\n",
       "        vertical-align: top;\n",
       "    }\n",
       "\n",
       "    .dataframe thead th {\n",
       "        text-align: right;\n",
       "    }\n",
       "</style>\n",
       "<table border=\"1\" class=\"dataframe\">\n",
       "  <thead>\n",
       "    <tr style=\"text-align: right;\">\n",
       "      <th></th>\n",
       "      <th>medicine</th>\n",
       "      <th>area</th>\n",
       "      <th>speciality</th>\n",
       "      <th>price</th>\n",
       "      <th>dr_class</th>\n",
       "      <th>exam_price</th>\n",
       "      <th>clinic_hos</th>\n",
       "    </tr>\n",
       "  </thead>\n",
       "  <tbody>\n",
       "    <tr>\n",
       "      <th>0</th>\n",
       "      <td>type1</td>\n",
       "      <td>area1</td>\n",
       "      <td>chest</td>\n",
       "      <td>1.00</td>\n",
       "      <td>a</td>\n",
       "      <td>0.811007</td>\n",
       "      <td>clinic</td>\n",
       "    </tr>\n",
       "    <tr>\n",
       "      <th>1</th>\n",
       "      <td>type1</td>\n",
       "      <td>area4</td>\n",
       "      <td>im</td>\n",
       "      <td>1.00</td>\n",
       "      <td>b</td>\n",
       "      <td>0.447184</td>\n",
       "      <td>hospital</td>\n",
       "    </tr>\n",
       "    <tr>\n",
       "      <th>2</th>\n",
       "      <td>type1</td>\n",
       "      <td>area2</td>\n",
       "      <td>gp</td>\n",
       "      <td>1.00</td>\n",
       "      <td>b</td>\n",
       "      <td>0.282142</td>\n",
       "      <td>hospital</td>\n",
       "    </tr>\n",
       "    <tr>\n",
       "      <th>3</th>\n",
       "      <td>type1</td>\n",
       "      <td>area3</td>\n",
       "      <td>im</td>\n",
       "      <td>1.00</td>\n",
       "      <td>a</td>\n",
       "      <td>0.729325</td>\n",
       "      <td>clinic</td>\n",
       "    </tr>\n",
       "    <tr>\n",
       "      <th>4</th>\n",
       "      <td>type4</td>\n",
       "      <td>area8</td>\n",
       "      <td>chest</td>\n",
       "      <td>0.64</td>\n",
       "      <td>a</td>\n",
       "      <td>0.372971</td>\n",
       "      <td>hospital</td>\n",
       "    </tr>\n",
       "  </tbody>\n",
       "</table>\n",
       "</div>"
      ],
      "text/plain": [
       "  medicine   area speciality  price dr_class  exam_price clinic_hos\n",
       "0    type1  area1      chest   1.00        a    0.811007     clinic\n",
       "1    type1  area4         im   1.00        b    0.447184   hospital\n",
       "2    type1  area2         gp   1.00        b    0.282142   hospital\n",
       "3    type1  area3         im   1.00        a    0.729325     clinic\n",
       "4    type4  area8      chest   0.64        a    0.372971   hospital"
      ]
     },
     "execution_count": 115,
     "metadata": {},
     "output_type": "execute_result"
    }
   ],
   "source": [
    "scaler=MinMaxScaler()\n",
    "num1=['price','exam_price']\n",
    "testing[num1] = scaler.fit_transform(testing[num1])\n",
    "testing.head()"
   ]
  },
  {
   "cell_type": "code",
   "execution_count": 116,
   "metadata": {},
   "outputs": [
    {
     "data": {
      "text/html": [
       "<div>\n",
       "<style scoped>\n",
       "    .dataframe tbody tr th:only-of-type {\n",
       "        vertical-align: middle;\n",
       "    }\n",
       "\n",
       "    .dataframe tbody tr th {\n",
       "        vertical-align: top;\n",
       "    }\n",
       "\n",
       "    .dataframe thead th {\n",
       "        text-align: right;\n",
       "    }\n",
       "</style>\n",
       "<table border=\"1\" class=\"dataframe\">\n",
       "  <thead>\n",
       "    <tr style=\"text-align: right;\">\n",
       "      <th></th>\n",
       "      <th>price</th>\n",
       "      <th>exam_price</th>\n",
       "      <th>medicine_type1</th>\n",
       "      <th>medicine_type2</th>\n",
       "      <th>medicine_type3</th>\n",
       "      <th>medicine_type4</th>\n",
       "      <th>medicine_type5</th>\n",
       "      <th>medicine_type6</th>\n",
       "      <th>area_area1</th>\n",
       "      <th>area_area2</th>\n",
       "      <th>...</th>\n",
       "      <th>speciality_im</th>\n",
       "      <th>speciality_neuro</th>\n",
       "      <th>speciality_or</th>\n",
       "      <th>speciality_sur</th>\n",
       "      <th>speciality_uro</th>\n",
       "      <th>speciality_vas</th>\n",
       "      <th>dr_class_a</th>\n",
       "      <th>dr_class_b</th>\n",
       "      <th>clinic_hos_clinic</th>\n",
       "      <th>clinic_hos_hospital</th>\n",
       "    </tr>\n",
       "  </thead>\n",
       "  <tbody>\n",
       "    <tr>\n",
       "      <th>0</th>\n",
       "      <td>1.00</td>\n",
       "      <td>0.811007</td>\n",
       "      <td>1</td>\n",
       "      <td>0</td>\n",
       "      <td>0</td>\n",
       "      <td>0</td>\n",
       "      <td>0</td>\n",
       "      <td>0</td>\n",
       "      <td>1</td>\n",
       "      <td>0</td>\n",
       "      <td>...</td>\n",
       "      <td>0</td>\n",
       "      <td>0</td>\n",
       "      <td>0</td>\n",
       "      <td>0</td>\n",
       "      <td>0</td>\n",
       "      <td>0</td>\n",
       "      <td>1</td>\n",
       "      <td>0</td>\n",
       "      <td>1</td>\n",
       "      <td>0</td>\n",
       "    </tr>\n",
       "    <tr>\n",
       "      <th>1</th>\n",
       "      <td>1.00</td>\n",
       "      <td>0.447184</td>\n",
       "      <td>1</td>\n",
       "      <td>0</td>\n",
       "      <td>0</td>\n",
       "      <td>0</td>\n",
       "      <td>0</td>\n",
       "      <td>0</td>\n",
       "      <td>0</td>\n",
       "      <td>0</td>\n",
       "      <td>...</td>\n",
       "      <td>1</td>\n",
       "      <td>0</td>\n",
       "      <td>0</td>\n",
       "      <td>0</td>\n",
       "      <td>0</td>\n",
       "      <td>0</td>\n",
       "      <td>0</td>\n",
       "      <td>1</td>\n",
       "      <td>0</td>\n",
       "      <td>1</td>\n",
       "    </tr>\n",
       "    <tr>\n",
       "      <th>2</th>\n",
       "      <td>1.00</td>\n",
       "      <td>0.282142</td>\n",
       "      <td>1</td>\n",
       "      <td>0</td>\n",
       "      <td>0</td>\n",
       "      <td>0</td>\n",
       "      <td>0</td>\n",
       "      <td>0</td>\n",
       "      <td>0</td>\n",
       "      <td>1</td>\n",
       "      <td>...</td>\n",
       "      <td>0</td>\n",
       "      <td>0</td>\n",
       "      <td>0</td>\n",
       "      <td>0</td>\n",
       "      <td>0</td>\n",
       "      <td>0</td>\n",
       "      <td>0</td>\n",
       "      <td>1</td>\n",
       "      <td>0</td>\n",
       "      <td>1</td>\n",
       "    </tr>\n",
       "    <tr>\n",
       "      <th>3</th>\n",
       "      <td>1.00</td>\n",
       "      <td>0.729325</td>\n",
       "      <td>1</td>\n",
       "      <td>0</td>\n",
       "      <td>0</td>\n",
       "      <td>0</td>\n",
       "      <td>0</td>\n",
       "      <td>0</td>\n",
       "      <td>0</td>\n",
       "      <td>0</td>\n",
       "      <td>...</td>\n",
       "      <td>1</td>\n",
       "      <td>0</td>\n",
       "      <td>0</td>\n",
       "      <td>0</td>\n",
       "      <td>0</td>\n",
       "      <td>0</td>\n",
       "      <td>1</td>\n",
       "      <td>0</td>\n",
       "      <td>1</td>\n",
       "      <td>0</td>\n",
       "    </tr>\n",
       "    <tr>\n",
       "      <th>4</th>\n",
       "      <td>0.64</td>\n",
       "      <td>0.372971</td>\n",
       "      <td>0</td>\n",
       "      <td>0</td>\n",
       "      <td>0</td>\n",
       "      <td>1</td>\n",
       "      <td>0</td>\n",
       "      <td>0</td>\n",
       "      <td>0</td>\n",
       "      <td>0</td>\n",
       "      <td>...</td>\n",
       "      <td>0</td>\n",
       "      <td>0</td>\n",
       "      <td>0</td>\n",
       "      <td>0</td>\n",
       "      <td>0</td>\n",
       "      <td>0</td>\n",
       "      <td>1</td>\n",
       "      <td>0</td>\n",
       "      <td>0</td>\n",
       "      <td>1</td>\n",
       "    </tr>\n",
       "  </tbody>\n",
       "</table>\n",
       "<p>5 rows × 31 columns</p>\n",
       "</div>"
      ],
      "text/plain": [
       "   price  exam_price  medicine_type1  medicine_type2  medicine_type3  \\\n",
       "0   1.00    0.811007               1               0               0   \n",
       "1   1.00    0.447184               1               0               0   \n",
       "2   1.00    0.282142               1               0               0   \n",
       "3   1.00    0.729325               1               0               0   \n",
       "4   0.64    0.372971               0               0               0   \n",
       "\n",
       "   medicine_type4  medicine_type5  medicine_type6  area_area1  area_area2  \\\n",
       "0               0               0               0           1           0   \n",
       "1               0               0               0           0           0   \n",
       "2               0               0               0           0           1   \n",
       "3               0               0               0           0           0   \n",
       "4               1               0               0           0           0   \n",
       "\n",
       "   ...  speciality_im  speciality_neuro  speciality_or  speciality_sur  \\\n",
       "0  ...              0                 0              0               0   \n",
       "1  ...              1                 0              0               0   \n",
       "2  ...              0                 0              0               0   \n",
       "3  ...              1                 0              0               0   \n",
       "4  ...              0                 0              0               0   \n",
       "\n",
       "   speciality_uro  speciality_vas  dr_class_a  dr_class_b  clinic_hos_clinic  \\\n",
       "0               0               0           1           0                  1   \n",
       "1               0               0           0           1                  0   \n",
       "2               0               0           0           1                  0   \n",
       "3               0               0           1           0                  1   \n",
       "4               0               0           1           0                  0   \n",
       "\n",
       "   clinic_hos_hospital  \n",
       "0                    0  \n",
       "1                    1  \n",
       "2                    1  \n",
       "3                    0  \n",
       "4                    1  \n",
       "\n",
       "[5 rows x 31 columns]"
      ]
     },
     "execution_count": 116,
     "metadata": {},
     "output_type": "execute_result"
    }
   ],
   "source": [
    "testing=pd.get_dummies(testing)\n",
    "testing.head()"
   ]
  },
  {
   "cell_type": "code",
   "execution_count": 117,
   "metadata": {},
   "outputs": [
    {
     "data": {
      "text/plain": [
       "0    1\n",
       "1    1\n",
       "2    1\n",
       "3    0\n",
       "4    0\n",
       "Name: write, dtype: int64"
      ]
     },
     "execution_count": 117,
     "metadata": {},
     "output_type": "execute_result"
    }
   ],
   "source": [
    "outcom.head()"
   ]
  },
  {
   "cell_type": "code",
   "execution_count": 118,
   "metadata": {},
   "outputs": [
    {
     "name": "stdout",
     "output_type": "stream",
     "text": [
      "test features has 30 samples.\n",
      " test label  set has 30 samples.\n"
     ]
    }
   ],
   "source": [
    "print(\"test features has {} samples.\".format(testing.shape[0]))\n",
    "print(\" test label  set has {} samples.\".format(outcom.shape[0]))"
   ]
  },
  {
   "cell_type": "markdown",
   "metadata": {},
   "source": [
    "# Naive model for testing"
   ]
  },
  {
   "cell_type": "code",
   "execution_count": 120,
   "metadata": {},
   "outputs": [
    {
     "name": "stdout",
     "output_type": "stream",
     "text": [
      "the accuracy of naive testing is 60.0\n"
     ]
    }
   ],
   "source": [
    "listtt=[]\n",
    "\n",
    "for i in range(testing.shape[0]) :\n",
    "    listtt.append(1)\n",
    "listt=pd.Series(listt)\n",
    "print(\"the accuracy of naive testing is\",accuracy_score(listtt,outcom)*100)"
   ]
  },
  {
   "cell_type": "markdown",
   "metadata": {},
   "source": [
    "# detrmine the best model in testing"
   ]
  },
  {
   "cell_type": "code",
   "execution_count": 127,
   "metadata": {},
   "outputs": [
    {
     "name": "stdout",
     "output_type": "stream",
     "text": [
      "testing accuracy for model 1: 83 %\n",
      "testing accuracy for model 2: 73 %\n",
      "testing accuracy for model 3: 73 %\n",
      "fbeta score for dectree is  85.1063829787234 %\n"
     ]
    }
   ],
   "source": [
    "# testing , outcom\n",
    "from sklearn.metrics import fbeta_score\n",
    "\n",
    "\n",
    "\n",
    "test_pred1=model1.predict(testing)\n",
    "test_pred2=model2.predict(testing)\n",
    "test_pred3=model3.predict(testing)\n",
    "\n",
    "test_acc1=accuracy_score(outcom,test_pred1)\n",
    "test_acc2=accuracy_score(outcom,test_pred2)\n",
    "test_acc3=accuracy_score(outcom,test_pred3)\n",
    "\n",
    "\n",
    "print(\"testing accuracy for model 1:\",round(test_acc1*100),\"%\")\n",
    "print(\"testing accuracy for model 2:\",round(test_acc2*100),\"%\")\n",
    "print(\"testing accuracy for model 3:\",round(test_acc3*100),\"%\")\n",
    "\n",
    "\n",
    "\n",
    "\n",
    "print('fbeta score for dectree is ',fbeta_score(outcom,test_pred1,beta=0.5)*100 ,'%')\n"
   ]
  },
  {
   "cell_type": "code",
   "execution_count": 144,
   "metadata": {},
   "outputs": [
    {
     "data": {
      "text/plain": [
       "DecisionTreeClassifier()"
      ]
     },
     "execution_count": 144,
     "metadata": {},
     "output_type": "execute_result"
    }
   ],
   "source": [
    "DecisionTreeClassifier()"
   ]
  },
  {
   "cell_type": "markdown",
   "metadata": {},
   "source": [
    "# the best model in dectree in train 91 and in testing 83"
   ]
  },
  {
   "cell_type": "markdown",
   "metadata": {},
   "source": [
    "# x_train,x_test.y_train,_y_test=feat_final,testing,label,outcom"
   ]
  },
  {
   "cell_type": "code",
   "execution_count": 159,
   "metadata": {},
   "outputs": [
    {
     "name": "stdout",
     "output_type": "stream",
     "text": [
      "The training accuracy is 0.7846153846153846\n",
      "The test accuracy is 0.7333333333333333\n"
     ]
    }
   ],
   "source": [
    "from sklearn.metrics import make_scorer\n",
    "from sklearn.model_selection import GridSearchCV\n",
    "\n",
    "clf = DecisionTreeClassifier(random_state=42)\n",
    "\n",
    "#parameters={'max_depth':[1,2,3,4,5],'min_samples_leaf':[1,2,4,6,7],'min_samples_split':[2,5,6,8]}\n",
    "parameters = {'max_depth': [4,5,6], 'min_samples_leaf': [0.001,0.0001,0.01,0.1], 'min_samples_split': [0.1,0.01,0.001,0.00001]}\n",
    "\n",
    "\n",
    "scorer = make_scorer(fbeta_score, beta = 0.5)\n",
    "\n",
    "grid_obj = GridSearchCV(clf, parameters,scoring=scorer)\n",
    "\n",
    "grid_fit =grid_obj.fit(feat_final,label )\n",
    "\n",
    "best_clf = grid_fit.best_estimator_\n",
    "\n",
    "best_clf.fit(feat_final, label)\n",
    "\n",
    "best_train_predictions = best_clf.predict(feat_final)\n",
    "best_test_predictions = best_clf.predict(testing)\n",
    "\n",
    "\n",
    "\n",
    "\n",
    "train_accuracy = accuracy_score(label, best_train_predictions)\n",
    "test_accuracy = accuracy_score(outcom,best_test_predictions )\n",
    "print('The training accuracy is', train_accuracy)\n",
    "print('The test accuracy is', test_accuracy)\n",
    "\n",
    "\n",
    "\n",
    "\n"
   ]
  },
  {
   "cell_type": "code",
   "execution_count": 160,
   "metadata": {},
   "outputs": [
    {
     "data": {
      "text/plain": [
       "DecisionTreeClassifier(max_depth=5, min_samples_leaf=0.001,\n",
       "                       min_samples_split=0.01, random_state=42)"
      ]
     },
     "execution_count": 160,
     "metadata": {},
     "output_type": "execute_result"
    }
   ],
   "source": [
    "best_clf"
   ]
  },
  {
   "cell_type": "code",
   "execution_count": null,
   "metadata": {},
   "outputs": [],
   "source": []
  }
 ],
 "metadata": {
  "kernelspec": {
   "display_name": "Python 3 (ipykernel)",
   "language": "python",
   "name": "python3"
  },
  "language_info": {
   "codemirror_mode": {
    "name": "ipython",
    "version": 3
   },
   "file_extension": ".py",
   "mimetype": "text/x-python",
   "name": "python",
   "nbconvert_exporter": "python",
   "pygments_lexer": "ipython3",
   "version": "3.9.12"
  }
 },
 "nbformat": 4,
 "nbformat_minor": 2
}
